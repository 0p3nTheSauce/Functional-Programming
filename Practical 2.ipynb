{
 "cells": [
  {
   "cell_type": "markdown",
   "metadata": {
    "dotnet_interactive": {
     "language": "fsharp"
    }
   },
   "source": [
    "# Warm-up\n",
    "\n",
    "**last** : `int -> int`.  Accepts an integer and returns its last digit."
   ]
  },
  {
   "cell_type": "code",
   "execution_count": 1,
   "metadata": {
    "dotnet_interactive": {
     "language": "fsharp"
    },
    "vscode": {
     "languageId": "polyglot-notebook"
    }
   },
   "outputs": [],
   "source": [
    "let rec last n =\n",
    "  if n >= 0 then\n",
    "    n % 10\n",
    "  else \n",
    "    last (-1 * n)\n"
   ]
  },
  {
   "cell_type": "markdown",
   "metadata": {
    "dotnet_interactive": {
     "language": "csharp"
    },
    "polyglot_notebook": {
     "kernelName": "csharp"
    }
   },
   "source": [
    "### Tests"
   ]
  },
  {
   "cell_type": "code",
   "execution_count": 2,
   "metadata": {
    "dotnet_interactive": {
     "language": "fsharp"
    },
    "vscode": {
     "languageId": "polyglot-notebook"
    }
   },
   "outputs": [
    {
     "data": {
      "text/html": [
       "<table><thead><tr><th>Item1</th><th>Item2</th><th>Item3</th><th>Item4</th><th>Item5</th><th>Item6</th></tr></thead><tbody><tr><td><div class=\"dni-plaintext\"><pre>True</pre></div></td><td><div class=\"dni-plaintext\"><pre>True</pre></div></td><td><div class=\"dni-plaintext\"><pre>True</pre></div></td><td><div class=\"dni-plaintext\"><pre>True</pre></div></td><td><div class=\"dni-plaintext\"><pre>True</pre></div></td><td><div class=\"dni-plaintext\"><pre>True</pre></div></td></tr></tbody></table><style>\r\n",
       ".dni-code-hint {\r\n",
       "    font-style: italic;\r\n",
       "    overflow: hidden;\r\n",
       "    white-space: nowrap;\r\n",
       "}\r\n",
       ".dni-treeview {\r\n",
       "    white-space: nowrap;\r\n",
       "}\r\n",
       ".dni-treeview td {\r\n",
       "    vertical-align: top;\r\n",
       "    text-align: start;\r\n",
       "}\r\n",
       "details.dni-treeview {\r\n",
       "    padding-left: 1em;\r\n",
       "}\r\n",
       "table td {\r\n",
       "    text-align: start;\r\n",
       "}\r\n",
       "table tr { \r\n",
       "    vertical-align: top; \r\n",
       "    margin: 0em 0px;\r\n",
       "}\r\n",
       "table tr td pre \r\n",
       "{ \r\n",
       "    vertical-align: top !important; \r\n",
       "    margin: 0em 0px !important;\r\n",
       "} \r\n",
       "table th {\r\n",
       "    text-align: start;\r\n",
       "}\r\n",
       "</style>"
      ]
     },
     "metadata": {},
     "output_type": "display_data"
    }
   ],
   "source": [
    "( last 0 = 0\n",
    ", last 10 = 0\n",
    ", last 55 = 5\n",
    ", last 103 = 3\n",
    ", last -7 = 7\n",
    ", last -8134 = 4\n",
    ")"
   ]
  },
  {
   "cell_type": "markdown",
   "metadata": {
    "dotnet_interactive": {
     "language": "csharp"
    },
    "polyglot_notebook": {
     "kernelName": "csharp"
    }
   },
   "source": [
    "**Imperative version** of **last**:"
   ]
  },
  {
   "cell_type": "code",
   "execution_count": 3,
   "metadata": {
    "dotnet_interactive": {
     "language": "csharp"
    },
    "vscode": {
     "languageId": "polyglot-notebook"
    }
   },
   "outputs": [],
   "source": [
    "// imperative version, written in C#\n",
    "int imperative_last(int n) {\n",
    "    int result = n % 10; // this will \"get it wrong\", but that's okay.\n",
    "    if (result < 0) { // we check it and if it's wrong...\n",
    "        return -1 * result; // ...then we fix it up here!\n",
    "    }\n",
    "    return result;\n",
    "}"
   ]
  },
  {
   "cell_type": "code",
   "execution_count": 4,
   "metadata": {
    "dotnet_interactive": {
     "language": "fsharp"
    },
    "polyglot_notebook": {
     "kernelName": "fsharp"
    },
    "vscode": {
     "languageId": "polyglot-notebook"
    }
   },
   "outputs": [],
   "source": [
    "let rec fold f state n =\n",
    "    if n < 0 then \n",
    "        fold f state (-1 * n)\n",
    "    elif n < 10 then \n",
    "        f state n\n",
    "    else\n",
    "        fold f (f state (n % 10)) (n / 10)"
   ]
  },
  {
   "cell_type": "markdown",
   "metadata": {
    "dotnet_interactive": {
     "language": "csharp"
    },
    "polyglot_notebook": {
     "kernelName": "csharp"
    }
   },
   "source": [
    "**first** : `int -> int`.  Accepts an integer and returns its first digit."
   ]
  },
  {
   "cell_type": "code",
   "execution_count": 5,
   "metadata": {
    "dotnet_interactive": {
     "language": "fsharp"
    },
    "vscode": {
     "languageId": "polyglot-notebook"
    }
   },
   "outputs": [],
   "source": [
    "let first n = \n",
    "    fold (fun state digit -> digit) 0 n"
   ]
  },
  {
   "cell_type": "markdown",
   "metadata": {
    "dotnet_interactive": {
     "language": "csharp"
    },
    "polyglot_notebook": {
     "kernelName": "csharp"
    }
   },
   "source": [
    "### Tests"
   ]
  },
  {
   "cell_type": "code",
   "execution_count": 6,
   "metadata": {
    "dotnet_interactive": {
     "language": "fsharp"
    },
    "vscode": {
     "languageId": "polyglot-notebook"
    }
   },
   "outputs": [
    {
     "data": {
      "text/html": [
       "<table><thead><tr><th>Item1</th><th>Item2</th><th>Item3</th><th>Item4</th><th>Item5</th><th>Item6</th></tr></thead><tbody><tr><td><div class=\"dni-plaintext\"><pre>True</pre></div></td><td><div class=\"dni-plaintext\"><pre>True</pre></div></td><td><div class=\"dni-plaintext\"><pre>True</pre></div></td><td><div class=\"dni-plaintext\"><pre>True</pre></div></td><td><div class=\"dni-plaintext\"><pre>True</pre></div></td><td><div class=\"dni-plaintext\"><pre>True</pre></div></td></tr></tbody></table><style>\r\n",
       ".dni-code-hint {\r\n",
       "    font-style: italic;\r\n",
       "    overflow: hidden;\r\n",
       "    white-space: nowrap;\r\n",
       "}\r\n",
       ".dni-treeview {\r\n",
       "    white-space: nowrap;\r\n",
       "}\r\n",
       ".dni-treeview td {\r\n",
       "    vertical-align: top;\r\n",
       "    text-align: start;\r\n",
       "}\r\n",
       "details.dni-treeview {\r\n",
       "    padding-left: 1em;\r\n",
       "}\r\n",
       "table td {\r\n",
       "    text-align: start;\r\n",
       "}\r\n",
       "table tr { \r\n",
       "    vertical-align: top; \r\n",
       "    margin: 0em 0px;\r\n",
       "}\r\n",
       "table tr td pre \r\n",
       "{ \r\n",
       "    vertical-align: top !important; \r\n",
       "    margin: 0em 0px !important;\r\n",
       "} \r\n",
       "table th {\r\n",
       "    text-align: start;\r\n",
       "}\r\n",
       "</style>"
      ]
     },
     "metadata": {},
     "output_type": "display_data"
    }
   ],
   "source": [
    "( first 0 = 0\n",
    ", first 10 = 1\n",
    ", first 55 = 5\n",
    ", first 103 = 1\n",
    ", first -7 = 7\n",
    ", first -8134 = 8\n",
    ")"
   ]
  },
  {
   "cell_type": "markdown",
   "metadata": {
    "dotnet_interactive": {
     "language": "csharp"
    },
    "polyglot_notebook": {
     "kernelName": "csharp"
    }
   },
   "source": [
    "**length** : `int -> int`.  Accepts an integer and returns the number of digits in that integer."
   ]
  },
  {
   "cell_type": "code",
   "execution_count": 7,
   "metadata": {
    "dotnet_interactive": {
     "language": "fsharp"
    },
    "vscode": {
     "languageId": "polyglot-notebook"
    }
   },
   "outputs": [],
   "source": [
    "let length v = \n",
    "  fold (fun state digit -> 1 + state) 0 v\n"
   ]
  },
  {
   "cell_type": "markdown",
   "metadata": {
    "dotnet_interactive": {
     "language": "csharp"
    },
    "polyglot_notebook": {
     "kernelName": "csharp"
    }
   },
   "source": [
    "### Tests"
   ]
  },
  {
   "cell_type": "code",
   "execution_count": 8,
   "metadata": {
    "dotnet_interactive": {
     "language": "fsharp"
    },
    "vscode": {
     "languageId": "polyglot-notebook"
    }
   },
   "outputs": [
    {
     "data": {
      "text/html": [
       "<table><thead><tr><th>Item1</th><th>Item2</th><th>Item3</th><th>Item4</th><th>Item5</th><th>Item6</th></tr></thead><tbody><tr><td><div class=\"dni-plaintext\"><pre>True</pre></div></td><td><div class=\"dni-plaintext\"><pre>True</pre></div></td><td><div class=\"dni-plaintext\"><pre>True</pre></div></td><td><div class=\"dni-plaintext\"><pre>True</pre></div></td><td><div class=\"dni-plaintext\"><pre>True</pre></div></td><td><div class=\"dni-plaintext\"><pre>True</pre></div></td></tr></tbody></table><style>\r\n",
       ".dni-code-hint {\r\n",
       "    font-style: italic;\r\n",
       "    overflow: hidden;\r\n",
       "    white-space: nowrap;\r\n",
       "}\r\n",
       ".dni-treeview {\r\n",
       "    white-space: nowrap;\r\n",
       "}\r\n",
       ".dni-treeview td {\r\n",
       "    vertical-align: top;\r\n",
       "    text-align: start;\r\n",
       "}\r\n",
       "details.dni-treeview {\r\n",
       "    padding-left: 1em;\r\n",
       "}\r\n",
       "table td {\r\n",
       "    text-align: start;\r\n",
       "}\r\n",
       "table tr { \r\n",
       "    vertical-align: top; \r\n",
       "    margin: 0em 0px;\r\n",
       "}\r\n",
       "table tr td pre \r\n",
       "{ \r\n",
       "    vertical-align: top !important; \r\n",
       "    margin: 0em 0px !important;\r\n",
       "} \r\n",
       "table th {\r\n",
       "    text-align: start;\r\n",
       "}\r\n",
       "</style>"
      ]
     },
     "metadata": {},
     "output_type": "display_data"
    }
   ],
   "source": [
    "( length 0 = 1\n",
    ", length 10 = 2\n",
    ", length 55 = 2\n",
    ", length 103 = 3\n",
    ", length -7 = 1\n",
    ", length -8134 = 4\n",
    ")"
   ]
  },
  {
   "cell_type": "markdown",
   "metadata": {
    "dotnet_interactive": {
     "language": "csharp"
    },
    "polyglot_notebook": {
     "kernelName": "csharp"
    }
   },
   "source": [
    "**reverse**: `int -> int`.  Reverse the digits of a number."
   ]
  },
  {
   "cell_type": "code",
   "execution_count": 9,
   "metadata": {
    "dotnet_interactive": {
     "language": "fsharp"
    },
    "vscode": {
     "languageId": "polyglot-notebook"
    }
   },
   "outputs": [],
   "source": [
    "let rec multiplier n = \n",
    "    if n <= 1 then \n",
    "        1\n",
    "    else\n",
    "        10 * multiplier (n - 1)\n",
    "\n",
    "let reverse n =\n",
    "    fold (fun (state, len) digit -> (state + digit * multiplier len, len-1)) (0, length n) n\n",
    "    |>  fun (a, b) -> if n < 0 then -a else a"
   ]
  },
  {
   "cell_type": "code",
   "execution_count": 10,
   "metadata": {
    "dotnet_interactive": {
     "language": "fsharp"
    },
    "polyglot_notebook": {
     "kernelName": "fsharp"
    },
    "vscode": {
     "languageId": "polyglot-notebook"
    }
   },
   "outputs": [
    {
     "data": {
      "text/html": [
       "<table><thead><tr><th>Item1</th><th>Item2</th><th>Item3</th><th>Item4</th></tr></thead><tbody><tr><td><div class=\"dni-plaintext\"><pre>True</pre></div></td><td><div class=\"dni-plaintext\"><pre>True</pre></div></td><td><div class=\"dni-plaintext\"><pre>True</pre></div></td><td><div class=\"dni-plaintext\"><pre>True</pre></div></td></tr></tbody></table><style>\r\n",
       ".dni-code-hint {\r\n",
       "    font-style: italic;\r\n",
       "    overflow: hidden;\r\n",
       "    white-space: nowrap;\r\n",
       "}\r\n",
       ".dni-treeview {\r\n",
       "    white-space: nowrap;\r\n",
       "}\r\n",
       ".dni-treeview td {\r\n",
       "    vertical-align: top;\r\n",
       "    text-align: start;\r\n",
       "}\r\n",
       "details.dni-treeview {\r\n",
       "    padding-left: 1em;\r\n",
       "}\r\n",
       "table td {\r\n",
       "    text-align: start;\r\n",
       "}\r\n",
       "table tr { \r\n",
       "    vertical-align: top; \r\n",
       "    margin: 0em 0px;\r\n",
       "}\r\n",
       "table tr td pre \r\n",
       "{ \r\n",
       "    vertical-align: top !important; \r\n",
       "    margin: 0em 0px !important;\r\n",
       "} \r\n",
       "table th {\r\n",
       "    text-align: start;\r\n",
       "}\r\n",
       "</style>"
      ]
     },
     "metadata": {},
     "output_type": "display_data"
    }
   ],
   "source": [
    "( multiplier 0 = 1\n",
    ", multiplier 1 = 1\n",
    ", multiplier 2 = 10\n",
    ", multiplier 3 = 100\n",
    ")"
   ]
  },
  {
   "cell_type": "markdown",
   "metadata": {
    "dotnet_interactive": {
     "language": "csharp"
    },
    "polyglot_notebook": {
     "kernelName": "csharp"
    }
   },
   "source": [
    "### Tests"
   ]
  },
  {
   "cell_type": "code",
   "execution_count": 11,
   "metadata": {
    "dotnet_interactive": {
     "language": "fsharp"
    },
    "vscode": {
     "languageId": "polyglot-notebook"
    }
   },
   "outputs": [
    {
     "data": {
      "text/html": [
       "<table><thead><tr><th>Item1</th><th>Item2</th><th>Item3</th><th>Item4</th><th>Item5</th><th>Item6</th></tr></thead><tbody><tr><td><div class=\"dni-plaintext\"><pre>True</pre></div></td><td><div class=\"dni-plaintext\"><pre>True</pre></div></td><td><div class=\"dni-plaintext\"><pre>True</pre></div></td><td><div class=\"dni-plaintext\"><pre>True</pre></div></td><td><div class=\"dni-plaintext\"><pre>True</pre></div></td><td><div class=\"dni-plaintext\"><pre>True</pre></div></td></tr></tbody></table><style>\r\n",
       ".dni-code-hint {\r\n",
       "    font-style: italic;\r\n",
       "    overflow: hidden;\r\n",
       "    white-space: nowrap;\r\n",
       "}\r\n",
       ".dni-treeview {\r\n",
       "    white-space: nowrap;\r\n",
       "}\r\n",
       ".dni-treeview td {\r\n",
       "    vertical-align: top;\r\n",
       "    text-align: start;\r\n",
       "}\r\n",
       "details.dni-treeview {\r\n",
       "    padding-left: 1em;\r\n",
       "}\r\n",
       "table td {\r\n",
       "    text-align: start;\r\n",
       "}\r\n",
       "table tr { \r\n",
       "    vertical-align: top; \r\n",
       "    margin: 0em 0px;\r\n",
       "}\r\n",
       "table tr td pre \r\n",
       "{ \r\n",
       "    vertical-align: top !important; \r\n",
       "    margin: 0em 0px !important;\r\n",
       "} \r\n",
       "table th {\r\n",
       "    text-align: start;\r\n",
       "}\r\n",
       "</style>"
      ]
     },
     "metadata": {},
     "output_type": "display_data"
    }
   ],
   "source": [
    "( reverse 0 = 0\n",
    ", reverse 10 = 1\n",
    ", reverse 55 = 55\n",
    ", reverse 103 = 301\n",
    ", reverse -7 = -7\n",
    ", reverse -8134 = -4318\n",
    ")"
   ]
  },
  {
   "cell_type": "markdown",
   "metadata": {
    "dotnet_interactive": {
     "language": "csharp"
    },
    "polyglot_notebook": {
     "kernelName": "csharp"
    }
   },
   "source": [
    "**digitAt** : `int -> int -> int`.  Accepts an integer and returns the digit at the specified index.  Return -1 if the index is out of bounds."
   ]
  },
  {
   "cell_type": "code",
   "execution_count": 12,
   "metadata": {
    "dotnet_interactive": {
     "language": "fsharp"
    },
    "vscode": {
     "languageId": "polyglot-notebook"
    }
   },
   "outputs": [],
   "source": [
    "\n",
    "\n",
    "let digitAt x index =\n",
    "\n",
    "  let rec digitAtIndex (n, index) =\n",
    "    if index = 0 then\n",
    "      last n\n",
    "    else\n",
    "      digitAtIndex ((n/10), (index - 1))\n",
    "\n",
    "  let len = length x\n",
    "  if index < 0 || index >= len then\n",
    "    -1 // this is out of bounds.\n",
    "  else\n",
    "    digitAtIndex (x, (len - index - 1))"
   ]
  },
  {
   "cell_type": "markdown",
   "metadata": {
    "dotnet_interactive": {
     "language": "csharp"
    },
    "polyglot_notebook": {
     "kernelName": "csharp"
    }
   },
   "source": [
    "### Tests"
   ]
  },
  {
   "cell_type": "code",
   "execution_count": 13,
   "metadata": {
    "dotnet_interactive": {
     "language": "fsharp"
    },
    "vscode": {
     "languageId": "polyglot-notebook"
    }
   },
   "outputs": [
    {
     "data": {
      "text/html": [
       "<table><thead><tr><th>Item1</th><th>Item2</th><th>Item3</th><th>Item4</th><th>Item5</th><th>Item6</th><th>Item7</th><th>Rest</th></tr></thead><tbody><tr><td><div class=\"dni-plaintext\"><pre>True</pre></div></td><td><div class=\"dni-plaintext\"><pre>True</pre></div></td><td><div class=\"dni-plaintext\"><pre>True</pre></div></td><td><div class=\"dni-plaintext\"><pre>True</pre></div></td><td><div class=\"dni-plaintext\"><pre>True</pre></div></td><td><div class=\"dni-plaintext\"><pre>True</pre></div></td><td><div class=\"dni-plaintext\"><pre>True</pre></div></td><td><div class=\"dni-plaintext\"><pre>( True, True, True )</pre></div></td></tr></tbody></table><style>\r\n",
       ".dni-code-hint {\r\n",
       "    font-style: italic;\r\n",
       "    overflow: hidden;\r\n",
       "    white-space: nowrap;\r\n",
       "}\r\n",
       ".dni-treeview {\r\n",
       "    white-space: nowrap;\r\n",
       "}\r\n",
       ".dni-treeview td {\r\n",
       "    vertical-align: top;\r\n",
       "    text-align: start;\r\n",
       "}\r\n",
       "details.dni-treeview {\r\n",
       "    padding-left: 1em;\r\n",
       "}\r\n",
       "table td {\r\n",
       "    text-align: start;\r\n",
       "}\r\n",
       "table tr { \r\n",
       "    vertical-align: top; \r\n",
       "    margin: 0em 0px;\r\n",
       "}\r\n",
       "table tr td pre \r\n",
       "{ \r\n",
       "    vertical-align: top !important; \r\n",
       "    margin: 0em 0px !important;\r\n",
       "} \r\n",
       "table th {\r\n",
       "    text-align: start;\r\n",
       "}\r\n",
       "</style>"
      ]
     },
     "metadata": {},
     "output_type": "display_data"
    }
   ],
   "source": [
    "( digitAt 0 1 = -1\n",
    ", digitAt 10 0 = 1\n",
    ", digitAt 10 1 = 0\n",
    ", digitAt 97531 4 = 1\n",
    ", digitAt 97531 0 = 9\n",
    ", digitAt 97531 2 = 5\n",
    ", digitAt 97531 3 = 3\n",
    ", digitAt 97531 1 = 7\n",
    ", digitAt 100 2 = 0\n",
    ", digitAt -8134 1 = 1\n",
    ")"
   ]
  },
  {
   "cell_type": "markdown",
   "metadata": {
    "dotnet_interactive": {
     "language": "csharp"
    },
    "polyglot_notebook": {
     "kernelName": "csharp"
    }
   },
   "source": [
    "# Practical\n",
    "\n",
    "## Task 1"
   ]
  },
  {
   "cell_type": "code",
   "execution_count": 14,
   "metadata": {
    "dotnet_interactive": {
     "language": "fsharp"
    },
    "vscode": {
     "languageId": "polyglot-notebook"
    }
   },
   "outputs": [
    {
     "data": {
      "text/html": [
       "<table><thead><tr><th>Item1</th><th>Item2</th></tr></thead><tbody><tr><td><div class=\"dni-plaintext\"><pre>9</pre></div></td><td><div class=\"dni-plaintext\"><pre>7</pre></div></td></tr></tbody></table><style>\r\n",
       ".dni-code-hint {\r\n",
       "    font-style: italic;\r\n",
       "    overflow: hidden;\r\n",
       "    white-space: nowrap;\r\n",
       "}\r\n",
       ".dni-treeview {\r\n",
       "    white-space: nowrap;\r\n",
       "}\r\n",
       ".dni-treeview td {\r\n",
       "    vertical-align: top;\r\n",
       "    text-align: start;\r\n",
       "}\r\n",
       "details.dni-treeview {\r\n",
       "    padding-left: 1em;\r\n",
       "}\r\n",
       "table td {\r\n",
       "    text-align: start;\r\n",
       "}\r\n",
       "table tr { \r\n",
       "    vertical-align: top; \r\n",
       "    margin: 0em 0px;\r\n",
       "}\r\n",
       "table tr td pre \r\n",
       "{ \r\n",
       "    vertical-align: top !important; \r\n",
       "    margin: 0em 0px !important;\r\n",
       "} \r\n",
       "table th {\r\n",
       "    text-align: start;\r\n",
       "}\r\n",
       "</style>"
      ]
     },
     "metadata": {},
     "output_type": "display_data"
    }
   ],
   "source": [
    "let peek n i = \n",
    "    if i < 0 then\n",
    "        (-1, -1)\n",
    "    else \n",
    "        (digitAt n i, digitAt n ((length n) - i - 1))\n",
    "\n",
    "//digitAt 303 ((length 303) - 0 - 1)\n",
    "//peek 303 2\n",
    "peek 91237 0\n"
   ]
  },
  {
   "cell_type": "markdown",
   "metadata": {
    "dotnet_interactive": {
     "language": "csharp"
    },
    "polyglot_notebook": {
     "kernelName": "csharp"
    }
   },
   "source": [
    "### Tests"
   ]
  },
  {
   "cell_type": "code",
   "execution_count": 15,
   "metadata": {
    "dotnet_interactive": {
     "language": "fsharp"
    },
    "vscode": {
     "languageId": "polyglot-notebook"
    }
   },
   "outputs": [
    {
     "data": {
      "text/html": [
       "<table><thead><tr><th>Item1</th><th>Item2</th><th>Item3</th><th>Item4</th><th>Item5</th><th>Item6</th><th>Item7</th><th>Rest</th></tr></thead><tbody><tr><td><div class=\"dni-plaintext\"><pre>True</pre></div></td><td><div class=\"dni-plaintext\"><pre>True</pre></div></td><td><div class=\"dni-plaintext\"><pre>True</pre></div></td><td><div class=\"dni-plaintext\"><pre>True</pre></div></td><td><div class=\"dni-plaintext\"><pre>True</pre></div></td><td><div class=\"dni-plaintext\"><pre>True</pre></div></td><td><div class=\"dni-plaintext\"><pre>True</pre></div></td><td><div class=\"dni-plaintext\"><pre>( True, True, True, True, True )</pre></div></td></tr></tbody></table><style>\r\n",
       ".dni-code-hint {\r\n",
       "    font-style: italic;\r\n",
       "    overflow: hidden;\r\n",
       "    white-space: nowrap;\r\n",
       "}\r\n",
       ".dni-treeview {\r\n",
       "    white-space: nowrap;\r\n",
       "}\r\n",
       ".dni-treeview td {\r\n",
       "    vertical-align: top;\r\n",
       "    text-align: start;\r\n",
       "}\r\n",
       "details.dni-treeview {\r\n",
       "    padding-left: 1em;\r\n",
       "}\r\n",
       "table td {\r\n",
       "    text-align: start;\r\n",
       "}\r\n",
       "table tr { \r\n",
       "    vertical-align: top; \r\n",
       "    margin: 0em 0px;\r\n",
       "}\r\n",
       "table tr td pre \r\n",
       "{ \r\n",
       "    vertical-align: top !important; \r\n",
       "    margin: 0em 0px !important;\r\n",
       "} \r\n",
       "table th {\r\n",
       "    text-align: start;\r\n",
       "}\r\n",
       "</style>"
      ]
     },
     "metadata": {},
     "output_type": "display_data"
    }
   ],
   "source": [
    "( peek 0 1 = (-1, -1)\n",
    ", peek 3 -1 = (-1, -1)\n",
    ", peek 3 0 = (3, 3)\n",
    ", peek 91237 0 = (9, 7)\n",
    ", peek 91237 1 = (1, 3)\n",
    ", peek 91237 2 = (2, 2)\n",
    ", peek 91237 3 = (3, 1)\n",
    ", peek 91237 4 = (7, 9)\n",
    ", peek 91237 5 = (-1, -1)\n",
    ", peek 1000 2 = (0, 0)\n",
    ", peek 1000 0 = (1, 0)\n",
    ", peek 1000 3 = (0, 1)\n",
    ")"
   ]
  },
  {
   "cell_type": "markdown",
   "metadata": {
    "dotnet_interactive": {
     "language": "fsharp"
    }
   },
   "source": [
    "## Task 2"
   ]
  },
  {
   "cell_type": "code",
   "execution_count": 16,
   "metadata": {
    "dotnet_interactive": {
     "language": "fsharp"
    },
    "vscode": {
     "languageId": "polyglot-notebook"
    }
   },
   "outputs": [],
   "source": [
    "let palindrome x = \n",
    "        let left (a, b) = a\n",
    "        let right (a, b) = b\n",
    "\n",
    "        let sameAtIndex x i = \n",
    "                if i >= length x then\n",
    "                       1 = 0\n",
    "                else         \n",
    "                       left (peek x i) = right (peek x i)\n",
    "\n",
    "        let rec innerPalindrome x l = \n",
    "                if l = 1 then \n",
    "                        true\n",
    "                elif l = 2 then\n",
    "                        sameAtIndex x (l - 1)\n",
    "                elif sameAtIndex x (l - 1) then \n",
    "                        innerPalindrome x (l - 1)\n",
    "                else \n",
    "                        false\n",
    "        \n",
    "        innerPalindrome x (length x)\n",
    "        \n",
    "//sameAtIndex 303 3 \n",
    "    \n"
   ]
  },
  {
   "cell_type": "markdown",
   "metadata": {
    "dotnet_interactive": {
     "language": "csharp"
    },
    "polyglot_notebook": {
     "kernelName": "csharp"
    }
   },
   "source": [
    "### Tests"
   ]
  },
  {
   "cell_type": "code",
   "execution_count": 17,
   "metadata": {
    "dotnet_interactive": {
     "language": "fsharp"
    },
    "vscode": {
     "languageId": "polyglot-notebook"
    }
   },
   "outputs": [
    {
     "data": {
      "text/html": [
       "<table><thead><tr><th>Item1</th><th>Item2</th><th>Item3</th><th>Item4</th><th>Item5</th><th>Item6</th><th>Item7</th><th>Rest</th></tr></thead><tbody><tr><td><div class=\"dni-plaintext\"><pre>True</pre></div></td><td><div class=\"dni-plaintext\"><pre>True</pre></div></td><td><div class=\"dni-plaintext\"><pre>True</pre></div></td><td><div class=\"dni-plaintext\"><pre>True</pre></div></td><td><div class=\"dni-plaintext\"><pre>True</pre></div></td><td><div class=\"dni-plaintext\"><pre>True</pre></div></td><td><div class=\"dni-plaintext\"><pre>True</pre></div></td><td><div class=\"dni-plaintext\"><pre>( True, True )</pre></div></td></tr></tbody></table><style>\r\n",
       ".dni-code-hint {\r\n",
       "    font-style: italic;\r\n",
       "    overflow: hidden;\r\n",
       "    white-space: nowrap;\r\n",
       "}\r\n",
       ".dni-treeview {\r\n",
       "    white-space: nowrap;\r\n",
       "}\r\n",
       ".dni-treeview td {\r\n",
       "    vertical-align: top;\r\n",
       "    text-align: start;\r\n",
       "}\r\n",
       "details.dni-treeview {\r\n",
       "    padding-left: 1em;\r\n",
       "}\r\n",
       "table td {\r\n",
       "    text-align: start;\r\n",
       "}\r\n",
       "table tr { \r\n",
       "    vertical-align: top; \r\n",
       "    margin: 0em 0px;\r\n",
       "}\r\n",
       "table tr td pre \r\n",
       "{ \r\n",
       "    vertical-align: top !important; \r\n",
       "    margin: 0em 0px !important;\r\n",
       "} \r\n",
       "table th {\r\n",
       "    text-align: start;\r\n",
       "}\r\n",
       "</style>"
      ]
     },
     "metadata": {},
     "output_type": "display_data"
    }
   ],
   "source": [
    "( palindrome 0 = true\n",
    ", palindrome 10 = false\n",
    ", palindrome 101 = true\n",
    ", palindrome 1010 = false\n",
    ", palindrome 1001 = true\n",
    ", palindrome 33 = true\n",
    ", palindrome 10201 = true\n",
    ", palindrome -9322239 = true\n",
    ", palindrome -766367 = false\n",
    ")"
   ]
  },
  {
   "attachments": {},
   "cell_type": "markdown",
   "metadata": {
    "dotnet_interactive": {
     "language": "fsharp"
    },
    "polyglot_notebook": {
     "kernelName": "fsharp"
    }
   },
   "source": [
    "# Homework"
   ]
  },
  {
   "attachments": {},
   "cell_type": "markdown",
   "metadata": {
    "dotnet_interactive": {
     "language": "csharp"
    },
    "polyglot_notebook": {
     "kernelName": "csharp"
    }
   },
   "source": [
    "## Task 1"
   ]
  },
  {
   "cell_type": "code",
   "execution_count": 18,
   "metadata": {
    "dotnet_interactive": {
     "language": "fsharp"
    },
    "vscode": {
     "languageId": "polyglot-notebook"
    }
   },
   "outputs": [],
   "source": [
    "let countIf f x =\n",
    "    let rec innerCount f x l =\n",
    "        if l < 0 then \n",
    "            0\n",
    "        elif f (digitAt x l) then \n",
    "            1 + innerCount f x (l - 1)\n",
    "        else \n",
    "            innerCount f x (l - 1)\n",
    "    \n",
    "    innerCount f x (length x - 1)\n",
    "\n",
    "\n",
    "\n"
   ]
  },
  {
   "cell_type": "markdown",
   "metadata": {
    "dotnet_interactive": {
     "language": "csharp"
    },
    "polyglot_notebook": {
     "kernelName": "csharp"
    }
   },
   "source": [
    "### Tests"
   ]
  },
  {
   "cell_type": "code",
   "execution_count": 19,
   "metadata": {
    "dotnet_interactive": {
     "language": "fsharp"
    },
    "vscode": {
     "languageId": "polyglot-notebook"
    }
   },
   "outputs": [
    {
     "data": {
      "text/html": [
       "<table><thead><tr><th>Item1</th><th>Item2</th><th>Item3</th><th>Item4</th><th>Item5</th></tr></thead><tbody><tr><td><div class=\"dni-plaintext\"><pre>True</pre></div></td><td><div class=\"dni-plaintext\"><pre>True</pre></div></td><td><div class=\"dni-plaintext\"><pre>True</pre></div></td><td><div class=\"dni-plaintext\"><pre>True</pre></div></td><td><div class=\"dni-plaintext\"><pre>True</pre></div></td></tr></tbody></table><style>\r\n",
       ".dni-code-hint {\r\n",
       "    font-style: italic;\r\n",
       "    overflow: hidden;\r\n",
       "    white-space: nowrap;\r\n",
       "}\r\n",
       ".dni-treeview {\r\n",
       "    white-space: nowrap;\r\n",
       "}\r\n",
       ".dni-treeview td {\r\n",
       "    vertical-align: top;\r\n",
       "    text-align: start;\r\n",
       "}\r\n",
       "details.dni-treeview {\r\n",
       "    padding-left: 1em;\r\n",
       "}\r\n",
       "table td {\r\n",
       "    text-align: start;\r\n",
       "}\r\n",
       "table tr { \r\n",
       "    vertical-align: top; \r\n",
       "    margin: 0em 0px;\r\n",
       "}\r\n",
       "table tr td pre \r\n",
       "{ \r\n",
       "    vertical-align: top !important; \r\n",
       "    margin: 0em 0px !important;\r\n",
       "} \r\n",
       "table th {\r\n",
       "    text-align: start;\r\n",
       "}\r\n",
       "</style>"
      ]
     },
     "metadata": {},
     "output_type": "display_data"
    }
   ],
   "source": [
    "( countIf (fun n -> n = 0) 1000 = 3\n",
    ", countIf (fun n -> n = 0) 75105125 = 1\n",
    ", countIf (fun n -> n <= 5) 75105125 = 7\n",
    ", countIf (fun n -> n % 2 = 0) 9 = 0\n",
    ", countIf (fun n -> n % 2 = 0) 2304956 = 4\n",
    ")"
   ]
  },
  {
   "attachments": {},
   "cell_type": "markdown",
   "metadata": {
    "dotnet_interactive": {
     "language": "fsharp"
    },
    "polyglot_notebook": {
     "kernelName": "fsharp"
    }
   },
   "source": [
    "## Task 2"
   ]
  },
  {
   "cell_type": "code",
   "execution_count": 75,
   "metadata": {
    "dotnet_interactive": {
     "language": "fsharp"
    },
    "vscode": {
     "languageId": "polyglot-notebook"
    }
   },
   "outputs": [],
   "source": [
    "let digitAt x i =\n",
    "//keep stores the digit at the desired position\n",
    "//(length x - 1 - i) calculates the index from the right\n",
    "    fold (fun (state, keep) digit -> if state = 0 then (state - 1, digit) else (state - 1, keep)) ((length x - 1 - i), -1) x \n",
    "    |> fun (a, b) -> b\n",
    "\n"
   ]
  },
  {
   "cell_type": "markdown",
   "metadata": {
    "dotnet_interactive": {
     "language": "csharp"
    },
    "polyglot_notebook": {
     "kernelName": "csharp"
    }
   },
   "source": [
    "### Tests"
   ]
  },
  {
   "cell_type": "code",
   "execution_count": 76,
   "metadata": {
    "dotnet_interactive": {
     "language": "fsharp"
    },
    "vscode": {
     "languageId": "polyglot-notebook"
    }
   },
   "outputs": [
    {
     "data": {
      "text/html": [
       "<table><thead><tr><th>Item1</th><th>Item2</th><th>Item3</th><th>Item4</th><th>Item5</th><th>Item6</th><th>Item7</th><th>Rest</th></tr></thead><tbody><tr><td><div class=\"dni-plaintext\"><pre>True</pre></div></td><td><div class=\"dni-plaintext\"><pre>True</pre></div></td><td><div class=\"dni-plaintext\"><pre>True</pre></div></td><td><div class=\"dni-plaintext\"><pre>True</pre></div></td><td><div class=\"dni-plaintext\"><pre>True</pre></div></td><td><div class=\"dni-plaintext\"><pre>True</pre></div></td><td><div class=\"dni-plaintext\"><pre>True</pre></div></td><td><div class=\"dni-plaintext\"><pre>( True, True, True )</pre></div></td></tr></tbody></table><style>\r\n",
       ".dni-code-hint {\r\n",
       "    font-style: italic;\r\n",
       "    overflow: hidden;\r\n",
       "    white-space: nowrap;\r\n",
       "}\r\n",
       ".dni-treeview {\r\n",
       "    white-space: nowrap;\r\n",
       "}\r\n",
       ".dni-treeview td {\r\n",
       "    vertical-align: top;\r\n",
       "    text-align: start;\r\n",
       "}\r\n",
       "details.dni-treeview {\r\n",
       "    padding-left: 1em;\r\n",
       "}\r\n",
       "table td {\r\n",
       "    text-align: start;\r\n",
       "}\r\n",
       "table tr { \r\n",
       "    vertical-align: top; \r\n",
       "    margin: 0em 0px;\r\n",
       "}\r\n",
       "table tr td pre \r\n",
       "{ \r\n",
       "    vertical-align: top !important; \r\n",
       "    margin: 0em 0px !important;\r\n",
       "} \r\n",
       "table th {\r\n",
       "    text-align: start;\r\n",
       "}\r\n",
       "</style>"
      ]
     },
     "metadata": {},
     "output_type": "display_data"
    }
   ],
   "source": [
    "( digitAt 0 1 = -1\n",
    ", digitAt 10 0 = 1\n",
    ", digitAt 10 1 = 0\n",
    ", digitAt 97531 4 = 1\n",
    ", digitAt 97531 0 = 9\n",
    ", digitAt 97531 2 = 5\n",
    ", digitAt 97531 3 = 3\n",
    ", digitAt 97531 1 = 7\n",
    ", digitAt 100 2 = 0\n",
    ", digitAt -8134 1 = 1\n",
    ")"
   ]
  }
 ],
 "metadata": {
  "kernelspec": {
   "display_name": ".NET (C#)",
   "language": "C#",
   "name": ".net-csharp"
  },
  "polyglot_notebook": {
   "kernelInfo": {
    "defaultKernelName": "csharp",
    "items": [
     {
      "aliases": [
       "c#",
       "C#"
      ],
      "languageName": "C#",
      "name": "csharp"
     },
     {
      "aliases": [],
      "languageName": null,
      "name": ".NET"
     },
     {
      "aliases": [
       "f#",
       "F#"
      ],
      "languageName": "F#",
      "name": "fsharp"
     },
     {
      "aliases": [],
      "languageName": "HTML",
      "name": "html"
     },
     {
      "aliases": [],
      "languageName": "KQL",
      "name": "kql"
     },
     {
      "aliases": [],
      "languageName": "Mermaid",
      "name": "mermaid"
     },
     {
      "aliases": [
       "powershell"
      ],
      "languageName": "PowerShell",
      "name": "pwsh"
     },
     {
      "aliases": [],
      "languageName": "SQL",
      "name": "sql"
     },
     {
      "aliases": [],
      "languageName": null,
      "name": "value"
     },
     {
      "aliases": [
       "frontend"
      ],
      "languageName": null,
      "name": "vscode"
     },
     {
      "aliases": [
       "js"
      ],
      "languageName": "JavaScript",
      "name": "javascript"
     },
     {
      "aliases": [],
      "name": "webview"
     }
    ]
   }
  }
 },
 "nbformat": 4,
 "nbformat_minor": 2
}

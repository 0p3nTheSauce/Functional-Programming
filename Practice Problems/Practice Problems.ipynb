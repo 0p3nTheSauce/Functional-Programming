{
 "cells": [
  {
   "attachments": {},
   "cell_type": "markdown",
   "metadata": {},
   "source": [
    "# Practice problems"
   ]
  },
  {
   "attachments": {},
   "cell_type": "markdown",
   "metadata": {},
   "source": [
    "## Basics "
   ]
  },
  {
   "cell_type": "code",
   "execution_count": 1,
   "metadata": {
    "dotnet_interactive": {
     "language": "fsharp"
    },
    "polyglot_notebook": {
     "kernelName": "fsharp"
    }
   },
   "outputs": [],
   "source": [
    "let max a b =\n",
    "    if a >= b then \n",
    "        a\n",
    "    else \n",
    "        b"
   ]
  },
  {
   "cell_type": "code",
   "execution_count": 2,
   "metadata": {
    "dotnet_interactive": {
     "language": "fsharp"
    },
    "polyglot_notebook": {
     "kernelName": "fsharp"
    }
   },
   "outputs": [],
   "source": [
    "let abs a =\n",
    "    if a < 0 then \n",
    "        a * -1\n",
    "    else \n",
    "        a"
   ]
  },
  {
   "cell_type": "code",
   "execution_count": 3,
   "metadata": {
    "dotnet_interactive": {
     "language": "fsharp"
    },
    "polyglot_notebook": {
     "kernelName": "fsharp"
    }
   },
   "outputs": [],
   "source": [
    "(fun x -> x < 3) "
   ]
  },
  {
   "attachments": {},
   "cell_type": "markdown",
   "metadata": {},
   "source": [
    "## Recursion"
   ]
  },
  {
   "cell_type": "code",
   "execution_count": 3,
   "metadata": {
    "dotnet_interactive": {
     "language": "fsharp"
    },
    "polyglot_notebook": {
     "kernelName": "fsharp"
    }
   },
   "outputs": [],
   "source": [
    "let rec gcd x y = //greatest common diviser\n",
    "    if y = (max x y) then\n",
    "        gcd y x\n",
    "    elif y = 0 then \n",
    "        x\n",
    "    else\n",
    "        gcd y (x % y) "
   ]
  },
  {
   "cell_type": "code",
   "execution_count": 4,
   "metadata": {
    "dotnet_interactive": {
     "language": "fsharp"
    },
    "polyglot_notebook": {
     "kernelName": "fsharp"
    }
   },
   "outputs": [
    {
     "ename": "Error",
     "evalue": "Command cancelled.",
     "output_type": "error",
     "traceback": [
      "Command cancelled."
     ]
    }
   ],
   "source": [
    "( gcd 10 5 = 5\n",
    ", gcd 14 28 = 14\n",
    ", gcd 21 14 = 7\n",
    ", gcd 56 48 = 8\n",
    ", gcd 5 5 = 5\n",
    ", gcd 0 5 = 5\n",
    ", gcd 5 0 = 5\n",
    ", gcd 0 0 = 0\n",
    ", gcd -21 -14 = 7\n",
    ", gcd 21 -14 = 7\n",
    ", gcd -21 14 = 7\n",
    ")"
   ]
  },
  {
   "cell_type": "code",
   "execution_count": null,
   "metadata": {
    "dotnet_interactive": {
     "language": "fsharp"
    },
    "polyglot_notebook": {
     "kernelName": "fsharp"
    }
   },
   "outputs": [],
   "source": [
    "let power x y = //power of\n",
    "    let rec inPow acc x y = \n",
    "        if y = 0 then \n",
    "            1\n",
    "        elif y = 1 then \n",
    "            acc\n",
    "        else\n",
    "            inPow (acc * x) x (y-1)\n",
    "    inPow x x y"
   ]
  },
  {
   "cell_type": "code",
   "execution_count": null,
   "metadata": {
    "dotnet_interactive": {
     "language": "fsharp"
    },
    "polyglot_notebook": {
     "kernelName": "fsharp"
    }
   },
   "outputs": [],
   "source": [
    "( power 2 0 = 1\n",
    ", power 2 1 = 2\n",
    ", power 2 5 = 32\n",
    ", power 3 3 = 27\n",
    ", power 1 10 = 1\n",
    ", power 0 5 = 0\n",
    ", power -2 3 = -8\n",
    ", power -2 4 = 16\n",
    ", power 2 -1 = 0\n",
    ")"
   ]
  },
  {
   "cell_type": "code",
   "execution_count": null,
   "metadata": {
    "dotnet_interactive": {
     "language": "fsharp"
    },
    "polyglot_notebook": {
     "kernelName": "fsharp"
    }
   },
   "outputs": [],
   "source": [
    "let staircase n = //stairs/fibonacci n\n",
    "    let rec inFib acc1 acc2 n =\n",
    "        if n = 1 then \n",
    "            acc1\n",
    "        elif n = 2 then \n",
    "            acc2 \n",
    "        else \n",
    "            inFib acc2 (acc1+acc2) (n-1)\n",
    "    if n = 0 then \n",
    "        0\n",
    "    else\n",
    "        inFib 1 2 n"
   ]
  },
  {
   "cell_type": "code",
   "execution_count": null,
   "metadata": {
    "dotnet_interactive": {
     "language": "fsharp"
    },
    "polyglot_notebook": {
     "kernelName": "fsharp"
    }
   },
   "outputs": [],
   "source": [
    "( staircase 1 = 1\n",
    ", staircase 2 = 2\n",
    ", staircase 3 = 3\n",
    ", staircase 4 = 5\n",
    ", staircase 5 = 8\n",
    ", staircase 6 = 13\n",
    ", staircase 7 = 21\n",
    ", staircase 0 = 0\n",
    ", staircase -1 = 0\n",
    ")"
   ]
  },
  {
   "cell_type": "code",
   "execution_count": null,
   "metadata": {
    "dotnet_interactive": {
     "language": "fsharp"
    },
    "polyglot_notebook": {
     "kernelName": "fsharp"
    }
   },
   "outputs": [],
   "source": [
    "let sqrt n = //square root\n",
    "    let rec inSqrt x n i =\n",
    "        if i = 0 then\n",
    "            x \n",
    "        else\n",
    "            inSqrt ( (x + n / x) / 2.0 ) n (i-1)\n",
    "    if n = 0.0 then\n",
    "        0.0\n",
    "    else\n",
    "        inSqrt (n/2.0) n 20"
   ]
  },
  {
   "cell_type": "code",
   "execution_count": null,
   "metadata": {
    "dotnet_interactive": {
     "language": "fsharp"
    },
    "polyglot_notebook": {
     "kernelName": "fsharp"
    }
   },
   "outputs": [],
   "source": [
    "( sqrt 0.0 = 0.0\n",
    ", sqrt 1.0 = 1.0\n",
    ", sqrt 2.0 > 1.414213561 && sqrt 2.0 < 1.414213563\n",
    ", sqrt 4.0 = 2.0\n",
    ", sqrt 9.0 = 3.0\n",
    ", sqrt 16.0 = 4.0\n",
    ", sqrt 23.0 = 4.795831523312719\n",
    ", sqrt 25.0 = 5.0\n",
    ", sqrt 100.0 = 10.0\n",
    ", sqrt 0.25 = 0.5\n",
    ", sqrt 0.0625 = 0.25\n",
    ")"
   ]
  },
  {
   "attachments": {},
   "cell_type": "markdown",
   "metadata": {},
   "source": [
    "## Higher order functions"
   ]
  },
  {
   "cell_type": "code",
   "execution_count": null,
   "metadata": {
    "dotnet_interactive": {
     "language": "fsharp"
    },
    "polyglot_notebook": {
     "kernelName": "fsharp"
    }
   },
   "outputs": [],
   "source": [
    "let sumEvenOdd fn n = // takes an integer n, and n int -> int function. Sums the even and odd results placed in a tuple\n",
    "    let rec funOE (even, odd) fn n =\n",
    "        let result = fn n\n",
    "        if n = 0 then \n",
    "            (even, odd)\n",
    "        elif result % 2 = 0 then\n",
    "            funOE (even + result, odd) fn (n-1) \n",
    "        else\n",
    "            funOE (even, odd + result) fn (n-1)\n",
    "    funOE (0,0) fn n"
   ]
  },
  {
   "cell_type": "code",
   "execution_count": null,
   "metadata": {
    "dotnet_interactive": {
     "language": "fsharp"
    },
    "polyglot_notebook": {
     "kernelName": "fsharp"
    }
   },
   "outputs": [],
   "source": [
    "( sumEvenOdd 10 (fun x -> x) = (30, 25)\n",
    ", sumEvenOdd 5 (fun x -> x * x) = (20, 35)\n",
    ", sumEvenOdd 5 (fun x -> x * 2) = (30, 0)\n",
    ", sumEvenOdd 5 (fun x -> x) = (6, 9)\n",
    ", sumEvenOdd 1 (fun x -> x) = (0, 1)\n",
    ", sumEvenOdd 0 (fun x -> x) = (0, 0)\n",
    ", sumEvenOdd 5 (fun _ -> 1) = (0, 5)\n",
    ")"
   ]
  },
  {
   "cell_type": "code",
   "execution_count": null,
   "metadata": {
    "dotnet_interactive": {
     "language": "fsharp"
    },
    "polyglot_notebook": {
     "kernelName": "fsharp"
    }
   },
   "outputs": [],
   "source": [
    "let sumTupleElements funct pred number = \n",
    "//function takes a predicate, another function and an integer n\n",
    "//applies the function to 1 to n and checks if the result satisfies predicate\n",
    "//outputs a tuple (count predicate satisfied, sum result)\n",
    "    let rec predTup (satisfied, result) funct pred n =\n",
    "        if n = 0 then \n",
    "            (satisfied, result)\n",
    "        else\n",
    "            if (funct n) |> pred  then \n",
    "                predTup (satisfied+1,result+funct n) funct pred (n-1) \n",
    "            else\n",
    "                predTup (satisfied, result) funct pred (n-1)\n",
    "    predTup (0,0) funct pred number"
   ]
  },
  {
   "cell_type": "code",
   "execution_count": null,
   "metadata": {
    "dotnet_interactive": {
     "language": "fsharp"
    },
    "polyglot_notebook": {
     "kernelName": "fsharp"
    }
   },
   "outputs": [],
   "source": [
    "( sumTupleElements 10 (fun x -> x, x * x) = (55, 385)\n",
    ", sumTupleElements 5 (fun x -> x, x * x) = (15, 55)\n",
    ", sumTupleElements 5 (fun x -> x, x * 2) = (15, 30)\n",
    ", sumTupleElements 5 (fun x -> x, x) = (15, 15)\n",
    ", sumTupleElements 1 (fun x -> x, x) = (1, 1)\n",
    ", sumTupleElements 0 (fun x -> x, x) = (0, 0)\n",
    ", sumTupleElements 5 (fun _ -> 1, 1) = (5, 5)\n",
    ", sumTupleElements 4 (fun x -> x * x, x * x * x) = (30, 100)\n",
    ", sumTupleElements 3 (fun x -> x * 3, x * x - 1) = (18, 11)\n",
    ", sumTupleElements 6 (fun _ -> 1, 2) = (6, 12)\n",
    ")"
   ]
  }
 ],
 "metadata": {
  "kernelspec": {
   "display_name": ".NET (F#)",
   "language": "F#",
   "name": ".net-fsharp"
  },
  "language_info": {
   "name": "polyglot-notebook"
  },
  "polyglot_notebook": {
   "kernelInfo": {
    "defaultKernelName": "fsharp",
    "items": [
     {
      "aliases": [],
      "languageName": "fsharp",
      "name": "fsharp"
     }
    ]
   }
  }
 },
 "nbformat": 4,
 "nbformat_minor": 2
}
